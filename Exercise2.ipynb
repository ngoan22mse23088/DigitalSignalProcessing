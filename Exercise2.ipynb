{
  "nbformat": 4,
  "nbformat_minor": 0,
  "metadata": {
    "colab": {
      "provenance": [],
      "authorship_tag": "ABX9TyPSY2avI1dNmn5I4Djj+o2u",
      "include_colab_link": true
    },
    "kernelspec": {
      "name": "python3",
      "display_name": "Python 3"
    },
    "language_info": {
      "name": "python"
    }
  },
  "cells": [
    {
      "cell_type": "markdown",
      "metadata": {
        "id": "view-in-github",
        "colab_type": "text"
      },
      "source": [
        "<a href=\"https://colab.research.google.com/github/ngoan22mse23088/DigitalSignalProcessing/blob/master/Exercise2.ipynb\" target=\"_parent\"><img src=\"https://colab.research.google.com/assets/colab-badge.svg\" alt=\"Open In Colab\"/></a>"
      ]
    },
    {
      "cell_type": "code",
      "execution_count": 3,
      "metadata": {
        "colab": {
          "base_uri": "https://localhost:8080/"
        },
        "id": "mYeqr8mEfwl0",
        "outputId": "667ab7c6-d626-4a37-9a13-cf2e9c13f039"
      },
      "outputs": [
        {
          "output_type": "stream",
          "name": "stdout",
          "text": [
            "Nhập dãy thứ nhất (các giá trị cách nhau bằng dấu phẩy): 2,3,4\n",
            "Nhập dãy thứ hai (các giá trị cách nhau bằng dấu phẩy): 1,3,-3,4\n",
            "Tổng chập của hai dãy là: [2, 9, 7, 11, 0, 16]\n"
          ]
        }
      ],
      "source": [
        "def convolution(x, h):\n",
        "    # Xác định độ dài của dãy x\n",
        "    M = len(x)\n",
        "\n",
        "    # Xác định độ dài của dãy h\n",
        "    N = len(h)\n",
        "\n",
        "    # Tạo một danh sách result với độ dài là M + N - 1, chứa kết quả của phép tích chập\n",
        "    result = [0] * (M + N - 1)\n",
        "\n",
        "    # Bắt đầu vòng lặp qua từng phần tử của dãy x\n",
        "    for m in range(M):\n",
        "        # Bắt đầu vòng lặp bên trong qua từng phần tử của dãy h\n",
        "        for n in range(N):\n",
        "            # Thực hiện phép tích chập bằng cách nhân phần tử x[m] với phần tử h[n]\n",
        "            # Sau đó, cộng kết quả vào vị trí tương ứng trong danh sách result\n",
        "            result[m + n] += x[m] * h[n]\n",
        "\n",
        "    # Trả về danh sách result chứa kết quả phép tích chập\n",
        "    return result\n",
        "\n",
        "# Nhập dãy thứ nhất\n",
        "x = input(\"Nhập dãy thứ nhất (các giá trị cách nhau bằng dấu phẩy): \").split(',')\n",
        "x = [int(val) for val in x]\n",
        "\n",
        "# Nhập dãy thứ hai\n",
        "h = input(\"Nhập dãy thứ hai (các giá trị cách nhau bằng dấu phẩy): \").split(',')\n",
        "h = [int(val) for val in h]\n",
        "\n",
        "# Tính tổng chập của hai dãy\n",
        "result = convolution(x, h)\n",
        "\n",
        "# In kết quả\n",
        "print(\"Tổng chập của hai dãy là:\", result)\n"
      ]
    }
  ]
}